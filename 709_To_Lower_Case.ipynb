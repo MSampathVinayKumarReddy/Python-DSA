{
  "nbformat": 4,
  "nbformat_minor": 0,
  "metadata": {
    "colab": {
      "provenance": []
    },
    "kernelspec": {
      "name": "python3",
      "display_name": "Python 3"
    },
    "language_info": {
      "name": "python"
    }
  },
  "cells": [
    {
      "cell_type": "code",
      "execution_count": 7,
      "metadata": {
        "colab": {
          "base_uri": "https://localhost:8080/"
        },
        "id": "r2gYVphICkjb",
        "outputId": "10526286-4a59-4a22-bfc4-99feff9c37e8"
      },
      "outputs": [
        {
          "output_type": "stream",
          "name": "stdout",
          "text": [
            "hello\n"
          ]
        }
      ],
      "source": [
        "#BruteFroce\n",
        "s = \"Hello\"\n",
        "print(s.lower())"
      ]
    },
    {
      "cell_type": "code",
      "source": [
        "s = \"Hello\"\n",
        "sol = ''\n",
        "for w in s:\n",
        "  if w.upper():\n",
        "    sol += w.lower()\n",
        "  else:\n",
        "    sol += w\n",
        "\n",
        "\n",
        "print(sol)"
      ],
      "metadata": {
        "colab": {
          "base_uri": "https://localhost:8080/"
        },
        "id": "ITZnDvx0CllW",
        "outputId": "84892ce6-5258-48f0-d807-95f24198483b"
      },
      "execution_count": 8,
      "outputs": [
        {
          "output_type": "stream",
          "name": "stdout",
          "text": [
            "hello\n"
          ]
        }
      ]
    },
    {
      "cell_type": "code",
      "source": [],
      "metadata": {
        "id": "RL1SeuKyDe0p"
      },
      "execution_count": null,
      "outputs": []
    },
    {
      "cell_type": "code",
      "source": [],
      "metadata": {
        "id": "bJHcd-fnDe5G"
      },
      "execution_count": null,
      "outputs": []
    }
  ]
}