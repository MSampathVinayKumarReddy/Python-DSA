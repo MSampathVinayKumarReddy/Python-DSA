{
  "nbformat": 4,
  "nbformat_minor": 0,
  "metadata": {
    "colab": {
      "provenance": []
    },
    "kernelspec": {
      "name": "python3",
      "display_name": "Python 3"
    },
    "language_info": {
      "name": "python"
    }
  },
  "cells": [
    {
      "cell_type": "code",
      "source": [
        "#solution from ChatGPT optimized efficient\n",
        "class Solution:\n",
        "    def isSubsequence(self, s, t):\n",
        "      #take two pointers, one for s, one for t\n",
        "        s_pointer = 0\n",
        "        t_pointer = 0\n",
        "\n",
        "        while s_pointer < len(s) and t_pointer < len(t):\n",
        "            if s[s_pointer] == t[t_pointer]:\n",
        "              #if match then increase s_pointer by 1 and last check if len matches with s\n",
        "                s_pointer += 1\n",
        "\n",
        "            t_pointer += 1\n",
        "\n",
        "\n",
        "        return s_pointer == len(s)"
      ],
      "metadata": {
        "id": "dEoxS28AQx97"
      },
      "execution_count": 7,
      "outputs": []
    },
    {
      "cell_type": "code",
      "source": [
        "Solution().isSubsequence(s = \"abc\", t = \"ahbgdc\")"
      ],
      "metadata": {
        "colab": {
          "base_uri": "https://localhost:8080/"
        },
        "id": "-vy2G7adSJ9Q",
        "outputId": "4112eed9-273c-40de-8c8c-67ee91754efa"
      },
      "execution_count": 8,
      "outputs": [
        {
          "output_type": "execute_result",
          "data": {
            "text/plain": [
              "True"
            ]
          },
          "metadata": {},
          "execution_count": 8
        }
      ]
    },
    {
      "cell_type": "code",
      "source": [
        "Solution().isSubsequence(s = \"axc\", t = \"ahbgdc\")"
      ],
      "metadata": {
        "colab": {
          "base_uri": "https://localhost:8080/"
        },
        "id": "X_ru4AKzSJ5o",
        "outputId": "c51fcd69-c8d6-440c-bfdb-b3661f70ed1b"
      },
      "execution_count": 9,
      "outputs": [
        {
          "output_type": "execute_result",
          "data": {
            "text/plain": [
              "False"
            ]
          },
          "metadata": {},
          "execution_count": 9
        }
      ]
    },
    {
      "cell_type": "code",
      "source": [],
      "metadata": {
        "id": "jnuJc8IdSJ3C"
      },
      "execution_count": null,
      "outputs": []
    },
    {
      "cell_type": "code",
      "source": [
        "class Solution:\n",
        "    def isSubsequence(self, s, t):\n",
        "      #in Python empty string is considered, i.e., if s is blank then it is present in t\n",
        "        if not s:\n",
        "            return True\n",
        "\n",
        "        counter = 0\n",
        "        for charc in t:\n",
        "            if charc == s[counter]:\n",
        "                counter += 1\n",
        "            if counter == len(s):\n",
        "                return True\n",
        "\n",
        "        return counter == len(s)"
      ],
      "metadata": {
        "id": "Y-9OjUOwVWvU"
      },
      "execution_count": 16,
      "outputs": []
    },
    {
      "cell_type": "code",
      "source": [
        "Solution().isSubsequence(s = \"abc\", t = \"ahbgdc\")"
      ],
      "metadata": {
        "colab": {
          "base_uri": "https://localhost:8080/"
        },
        "id": "GRXhQar_VWxo",
        "outputId": "a0d3474a-389f-4df2-c3fb-e99b30749bf2"
      },
      "execution_count": 17,
      "outputs": [
        {
          "output_type": "execute_result",
          "data": {
            "text/plain": [
              "True"
            ]
          },
          "metadata": {},
          "execution_count": 17
        }
      ]
    },
    {
      "cell_type": "code",
      "source": [
        "Solution().isSubsequence(s = \"axc\", t = \"ahbgdc\")"
      ],
      "metadata": {
        "colab": {
          "base_uri": "https://localhost:8080/"
        },
        "id": "5U0WVa__VW1F",
        "outputId": "39fe0713-5bb0-4691-e105-dc43962a855c"
      },
      "execution_count": 18,
      "outputs": [
        {
          "output_type": "execute_result",
          "data": {
            "text/plain": [
              "False"
            ]
          },
          "metadata": {},
          "execution_count": 18
        }
      ]
    },
    {
      "cell_type": "code",
      "source": [],
      "metadata": {
        "id": "ZIVMuVITVrYi"
      },
      "execution_count": null,
      "outputs": []
    }
  ]
}