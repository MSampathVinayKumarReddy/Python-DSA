{
  "nbformat": 4,
  "nbformat_minor": 0,
  "metadata": {
    "colab": {
      "provenance": []
    },
    "kernelspec": {
      "name": "python3",
      "display_name": "Python 3"
    },
    "language_info": {
      "name": "python"
    }
  },
  "cells": [
    {
      "cell_type": "code",
      "source": [
        "#Brute force - very bad method\n",
        "from collections import Counter\n",
        "class Solution:\n",
        "    def canConstruct(self, ransomNote, magazine):\n",
        "        for i in ransomNote:\n",
        "            if ransomNote.count(i) > magazine.count(i):\n",
        "                return False\n",
        "        return True"
      ],
      "metadata": {
        "id": "ANdC6xO6FisX"
      },
      "execution_count": 2,
      "outputs": []
    },
    {
      "cell_type": "code",
      "source": [
        "Solution().canConstruct(ransomNote = \"a\", magazine = \"b\")"
      ],
      "metadata": {
        "colab": {
          "base_uri": "https://localhost:8080/"
        },
        "id": "nRkiMg5RHFVE",
        "outputId": "0153c58b-bd94-4ff3-83a2-8b1608858a7b"
      },
      "execution_count": 3,
      "outputs": [
        {
          "output_type": "execute_result",
          "data": {
            "text/plain": [
              "False"
            ]
          },
          "metadata": {},
          "execution_count": 3
        }
      ]
    },
    {
      "cell_type": "code",
      "source": [
        "Solution().canConstruct(ransomNote = \"aa\", magazine = \"aab\")"
      ],
      "metadata": {
        "colab": {
          "base_uri": "https://localhost:8080/"
        },
        "id": "SPdZ4EwGHKXQ",
        "outputId": "ebc56e5b-e574-4225-aae6-c6eb89a92a21"
      },
      "execution_count": 4,
      "outputs": [
        {
          "output_type": "execute_result",
          "data": {
            "text/plain": [
              "True"
            ]
          },
          "metadata": {},
          "execution_count": 4
        }
      ]
    },
    {
      "cell_type": "code",
      "source": [],
      "metadata": {
        "id": "9iUE7FL9HOP3"
      },
      "execution_count": null,
      "outputs": []
    },
    {
      "cell_type": "code",
      "source": [
        "#Optimized and efficient\n",
        "from collections import Counter\n",
        "class Solution:\n",
        "    def canConstruct(self, ransomNote, magazine):\n",
        "      #instead of going through all the elements, we use set to make it de duplicate and then search\n",
        "        for i in set(ransomNote):\n",
        "            if magazine.count(i) < ransomNote.count(i):\n",
        "                return False\n",
        "\n",
        "        return True"
      ],
      "metadata": {
        "id": "WPp1eudiHXeW"
      },
      "execution_count": 5,
      "outputs": []
    },
    {
      "cell_type": "code",
      "source": [
        "Solution().canConstruct(ransomNote = \"a\", magazine = \"b\")"
      ],
      "metadata": {
        "colab": {
          "base_uri": "https://localhost:8080/"
        },
        "id": "_ZFwFJljHXbu",
        "outputId": "1eb38a09-0341-498a-9c45-f0ae0c96647f"
      },
      "execution_count": 6,
      "outputs": [
        {
          "output_type": "execute_result",
          "data": {
            "text/plain": [
              "False"
            ]
          },
          "metadata": {},
          "execution_count": 6
        }
      ]
    },
    {
      "cell_type": "code",
      "source": [
        "Solution().canConstruct(ransomNote = \"aa\", magazine = \"aab\")"
      ],
      "metadata": {
        "colab": {
          "base_uri": "https://localhost:8080/"
        },
        "id": "aDqdlAjgHXYn",
        "outputId": "a1b7ddc9-4775-4d0b-cb31-c3ba86f25638"
      },
      "execution_count": 7,
      "outputs": [
        {
          "output_type": "execute_result",
          "data": {
            "text/plain": [
              "True"
            ]
          },
          "metadata": {},
          "execution_count": 7
        }
      ]
    },
    {
      "cell_type": "code",
      "source": [],
      "metadata": {
        "id": "0xjFkjFBHXV7"
      },
      "execution_count": null,
      "outputs": []
    },
    {
      "cell_type": "code",
      "source": [],
      "metadata": {
        "id": "fwv0J2_tHXSw"
      },
      "execution_count": null,
      "outputs": []
    },
    {
      "cell_type": "code",
      "source": [],
      "metadata": {
        "id": "Qc7djnLSHXQH"
      },
      "execution_count": null,
      "outputs": []
    }
  ]
}