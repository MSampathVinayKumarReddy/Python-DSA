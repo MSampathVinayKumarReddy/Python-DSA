{
  "nbformat": 4,
  "nbformat_minor": 0,
  "metadata": {
    "colab": {
      "provenance": []
    },
    "kernelspec": {
      "name": "python3",
      "display_name": "Python 3"
    },
    "language_info": {
      "name": "python"
    }
  },
  "cells": [
    {
      "cell_type": "code",
      "source": [
        "#Bruteforce Approach - beats 100% in runtime\n",
        "class Solution:\n",
        "    def toGoatLatin(self, sentence: str) -> str:\n",
        "        #list to hold each word\n",
        "        lis = []\n",
        "        vows = [\"a\", \"e\", \"i\", \"o\", \"u\"]\n",
        "\n",
        "        #checks if first char in the word is vowel or not\n",
        "        for i in sentence.split():\n",
        "            if i[0][0].lower() in vows:\n",
        "                lis.append(i + 'ma')\n",
        "            else:\n",
        "                lis.append(i[1:] + i[0] + 'ma')\n",
        "        #go through each word in the list and add 'a', 'aa', 'aaa' and so on\n",
        "        for i in range(1, len(lis) + 1):\n",
        "            lis[i - 1] += i * 'a'\n",
        "\n",
        "        #convert list to string\n",
        "        return ' '.join(lis)"
      ],
      "metadata": {
        "id": "OK0P_8yWVvey"
      },
      "execution_count": 27,
      "outputs": []
    },
    {
      "cell_type": "code",
      "source": [
        "Solution().toGoatLatin(\"I speak Goat Latin\")"
      ],
      "metadata": {
        "colab": {
          "base_uri": "https://localhost:8080/",
          "height": 36
        },
        "id": "vmtjlyFIatpV",
        "outputId": "43501a3f-2353-45d6-f0ac-b5e0dd2a5985"
      },
      "execution_count": 28,
      "outputs": [
        {
          "output_type": "execute_result",
          "data": {
            "text/plain": [
              "'Imaa peaksmaaa oatGmaaaa atinLmaaaaa'"
            ],
            "application/vnd.google.colaboratory.intrinsic+json": {
              "type": "string"
            }
          },
          "metadata": {},
          "execution_count": 28
        }
      ]
    },
    {
      "cell_type": "code",
      "source": [
        "Solution().toGoatLatin(\"The quick brown fox jumped over the lazy dog\")"
      ],
      "metadata": {
        "colab": {
          "base_uri": "https://localhost:8080/",
          "height": 36
        },
        "id": "C4we3unJatrj",
        "outputId": "40b37127-b179-4759-98d0-e40f0401a184"
      },
      "execution_count": 29,
      "outputs": [
        {
          "output_type": "execute_result",
          "data": {
            "text/plain": [
              "'heTmaa uickqmaaa rownbmaaaa oxfmaaaaa umpedjmaaaaaa overmaaaaaaa hetmaaaaaaaa azylmaaaaaaaaa ogdmaaaaaaaaaa'"
            ],
            "application/vnd.google.colaboratory.intrinsic+json": {
              "type": "string"
            }
          },
          "metadata": {},
          "execution_count": 29
        }
      ]
    },
    {
      "cell_type": "code",
      "source": [],
      "metadata": {
        "id": "eqFk2udtatvE"
      },
      "execution_count": null,
      "outputs": []
    }
  ]
}