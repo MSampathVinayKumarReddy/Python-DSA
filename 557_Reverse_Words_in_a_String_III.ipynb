{
  "nbformat": 4,
  "nbformat_minor": 0,
  "metadata": {
    "colab": {
      "provenance": []
    },
    "kernelspec": {
      "name": "python3",
      "display_name": "Python 3"
    },
    "language_info": {
      "name": "python"
    }
  },
  "cells": [
    {
      "cell_type": "code",
      "source": [
        "#BruteForce\n",
        "\n",
        "\n",
        "def revWords(s):\n",
        "  s1 = s[::-1] #reverse the string -- gniD rM\n",
        "  s2 = s1.split() #split based on space -- [\"gniD\", \"rM\"]\n",
        "  s3 = ''\n",
        "\n",
        "  for i in range(len(s2) - 1, -1, -1):\n",
        "    s3 += s2[i] + ' '\n",
        "\n",
        "  return s3[:-1] #remove extra space at the end"
      ],
      "metadata": {
        "id": "EuRuO-cKwETr"
      },
      "execution_count": 15,
      "outputs": []
    },
    {
      "cell_type": "code",
      "source": [
        "revWords(\"Let's take LeetCode contest\")"
      ],
      "metadata": {
        "colab": {
          "base_uri": "https://localhost:8080/",
          "height": 36
        },
        "id": "vkrqHBffwEWb",
        "outputId": "932c97a9-e95e-447d-a892-f71fdcf7223f"
      },
      "execution_count": 16,
      "outputs": [
        {
          "output_type": "execute_result",
          "data": {
            "text/plain": [
              "\"s'teL ekat edoCteeL tsetnoc\""
            ],
            "application/vnd.google.colaboratory.intrinsic+json": {
              "type": "string"
            }
          },
          "metadata": {},
          "execution_count": 16
        }
      ]
    },
    {
      "cell_type": "code",
      "source": [
        "revWords(\"Mr Ding\")"
      ],
      "metadata": {
        "colab": {
          "base_uri": "https://localhost:8080/",
          "height": 36
        },
        "id": "jT1qXs_wwEY7",
        "outputId": "7baf4cf7-6fbd-4bc8-e8a2-4324bbce6b51"
      },
      "execution_count": 17,
      "outputs": [
        {
          "output_type": "execute_result",
          "data": {
            "text/plain": [
              "'rM gniD'"
            ],
            "application/vnd.google.colaboratory.intrinsic+json": {
              "type": "string"
            }
          },
          "metadata": {},
          "execution_count": 17
        }
      ]
    },
    {
      "cell_type": "code",
      "source": [],
      "metadata": {
        "id": "lSRb2BPhwEbv"
      },
      "execution_count": null,
      "outputs": []
    },
    {
      "cell_type": "code",
      "source": [
        "#Optimized\n",
        "\n",
        "def reverseWords(s):\n",
        "    words=s.split() #first split the words based on space\n",
        "    return ' '.join([word[::-1] for word in words]) #reverse the splitted words and then join with space"
      ],
      "metadata": {
        "id": "K-ySAVx3wEei"
      },
      "execution_count": 3,
      "outputs": []
    },
    {
      "cell_type": "code",
      "source": [
        "reverseWords(s=\"Mr Sampath didnt do the hmewrk\")"
      ],
      "metadata": {
        "colab": {
          "base_uri": "https://localhost:8080/",
          "height": 36
        },
        "id": "SxF3wkmXwEgb",
        "outputId": "0cd4ad56-2818-4fbb-a6c2-a7da42158f77"
      },
      "execution_count": 4,
      "outputs": [
        {
          "output_type": "execute_result",
          "data": {
            "text/plain": [
              "'rM htapmaS tndid od eht krwemh'"
            ],
            "application/vnd.google.colaboratory.intrinsic+json": {
              "type": "string"
            }
          },
          "metadata": {},
          "execution_count": 4
        }
      ]
    },
    {
      "cell_type": "code",
      "source": [],
      "metadata": {
        "id": "3icJ0MB3ye0I"
      },
      "execution_count": null,
      "outputs": []
    },
    {
      "cell_type": "code",
      "source": [
        "#MostOptimized\n",
        "\n",
        "def rvsWords(s):\n",
        "    return ' '.join(map(lambda word: word[::-1], s.split()))"
      ],
      "metadata": {
        "id": "YA2DXn7jye2x"
      },
      "execution_count": 10,
      "outputs": []
    },
    {
      "cell_type": "code",
      "source": [
        "rvsWords(\"the goat, the best, the beast,, su'r\")"
      ],
      "metadata": {
        "colab": {
          "base_uri": "https://localhost:8080/",
          "height": 36
        },
        "id": "EO4mbo_Pye50",
        "outputId": "f642645a-0b65-4ab9-aea9-402bcee5bb49"
      },
      "execution_count": 11,
      "outputs": [
        {
          "output_type": "execute_result",
          "data": {
            "text/plain": [
              "\"eht ,taog eht ,tseb eht ,,tsaeb r'us\""
            ],
            "application/vnd.google.colaboratory.intrinsic+json": {
              "type": "string"
            }
          },
          "metadata": {},
          "execution_count": 11
        }
      ]
    },
    {
      "cell_type": "code",
      "source": [],
      "metadata": {
        "id": "4RQOe37L1YaA"
      },
      "execution_count": null,
      "outputs": []
    }
  ]
}