{
  "nbformat": 4,
  "nbformat_minor": 0,
  "metadata": {
    "colab": {
      "provenance": []
    },
    "kernelspec": {
      "name": "python3",
      "display_name": "Python 3"
    },
    "language_info": {
      "name": "python"
    }
  },
  "cells": [
    {
      "cell_type": "code",
      "source": [],
      "metadata": {
        "id": "UH-uar7zN2A-"
      },
      "execution_count": null,
      "outputs": []
    },
    {
      "cell_type": "code",
      "source": [
        "#Bruteforce\n",
        "\n",
        "class Solution:\n",
        "    def firstUniqChar(self, s):\n",
        "      #create dict to save the char and count of it\n",
        "        d = {}\n",
        "        for i in s:\n",
        "            if i in d.keys():\n",
        "                d[i] += 1\n",
        "            else:\n",
        "                d[i] = 1\n",
        "        #go throught the dict and find out first char with val 1 or return -1\n",
        "        for i in range(len(s)):\n",
        "            if d[s[i]] == 1:\n",
        "                return i\n",
        "\n",
        "        return -1"
      ],
      "metadata": {
        "id": "F5HojcQtN2Df"
      },
      "execution_count": 3,
      "outputs": []
    },
    {
      "cell_type": "code",
      "source": [
        "Solution().firstUniqChar(s = \"leetcode\")"
      ],
      "metadata": {
        "colab": {
          "base_uri": "https://localhost:8080/"
        },
        "id": "PljAy2aLN2G1",
        "outputId": "0743246a-0fac-4d68-a5f4-c8355416e01d"
      },
      "execution_count": 4,
      "outputs": [
        {
          "output_type": "execute_result",
          "data": {
            "text/plain": [
              "0"
            ]
          },
          "metadata": {},
          "execution_count": 4
        }
      ]
    },
    {
      "cell_type": "code",
      "source": [
        "Solution().firstUniqChar(s = \"loveleetcode\")"
      ],
      "metadata": {
        "colab": {
          "base_uri": "https://localhost:8080/"
        },
        "id": "hAuOpTAtOSNj",
        "outputId": "4097610f-4bdc-492e-981e-c66c467473ad"
      },
      "execution_count": 5,
      "outputs": [
        {
          "output_type": "execute_result",
          "data": {
            "text/plain": [
              "2"
            ]
          },
          "metadata": {},
          "execution_count": 5
        }
      ]
    },
    {
      "cell_type": "code",
      "source": [
        "#Similar to above but optimized\n",
        "\n",
        "from collections import Counter\n",
        "class Solution:\n",
        "    def firstUniqChar(self, s: str) -> int:\n",
        "        d = Counter(s)\n",
        "\n",
        "        for i in range(len(s)):\n",
        "            if d[s[i]] == 1:\n",
        "                return i\n",
        "\n",
        "        return -1"
      ],
      "metadata": {
        "id": "y5EfuOwkOSP5"
      },
      "execution_count": 6,
      "outputs": []
    },
    {
      "cell_type": "code",
      "source": [
        "Solution().firstUniqChar(s = \"leetcode\")"
      ],
      "metadata": {
        "colab": {
          "base_uri": "https://localhost:8080/"
        },
        "id": "JcnVgVXfOSTQ",
        "outputId": "16a969a5-cecc-47f8-d088-fe239bd73192"
      },
      "execution_count": 7,
      "outputs": [
        {
          "output_type": "execute_result",
          "data": {
            "text/plain": [
              "0"
            ]
          },
          "metadata": {},
          "execution_count": 7
        }
      ]
    },
    {
      "cell_type": "code",
      "source": [
        "Solution().firstUniqChar(s = \"loveleetcode\")"
      ],
      "metadata": {
        "colab": {
          "base_uri": "https://localhost:8080/"
        },
        "id": "38SVnBDbOSXY",
        "outputId": "4dfb2183-1281-4dbd-bb28-fd9db7393f11"
      },
      "execution_count": 8,
      "outputs": [
        {
          "output_type": "execute_result",
          "data": {
            "text/plain": [
              "2"
            ]
          },
          "metadata": {},
          "execution_count": 8
        }
      ]
    },
    {
      "cell_type": "code",
      "source": [],
      "metadata": {
        "id": "Hz6c-46_PGmz"
      },
      "execution_count": null,
      "outputs": []
    }
  ]
}