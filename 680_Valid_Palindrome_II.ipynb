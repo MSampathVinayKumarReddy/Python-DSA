{
  "nbformat": 4,
  "nbformat_minor": 0,
  "metadata": {
    "colab": {
      "provenance": []
    },
    "kernelspec": {
      "name": "python3",
      "display_name": "Python 3"
    },
    "language_info": {
      "name": "python"
    }
  },
  "cells": [
    {
      "cell_type": "code",
      "source": [
        "#Solution -\n",
        "\n",
        "class Solution:\n",
        "    def validPalindrome(self, s: str) -> bool:\n",
        "        left = 0 # pointer one\n",
        "        right = len(s) - 1 # pointer two\n",
        "\n",
        "        while left < right: # index should be less then right one, not even equal, as  we dont need to compare same index\n",
        "            if s[left] == s[right]: # if both the ends value are equal.\n",
        "                left += 1 # if yes increase them both\n",
        "                right -= 1\n",
        "            else: # if not, we will check if it is after removing either right of left value\n",
        "                return s[left:right] == s[left:right][::-1] or s[left+1:right+1] == s[left+1:right+1][::-1] # return true if either situation is True.\n",
        "\n",
        "        return True # True as both ends values are same."
      ],
      "metadata": {
        "id": "wR5dXO9bJj-K"
      },
      "execution_count": 2,
      "outputs": []
    },
    {
      "cell_type": "code",
      "source": [
        "Solution().validPalindrome(\"aba\")"
      ],
      "metadata": {
        "colab": {
          "base_uri": "https://localhost:8080/"
        },
        "id": "bJxhTzyYJkAX",
        "outputId": "7d3fef34-29b0-4535-8239-a1809046cd24"
      },
      "execution_count": 3,
      "outputs": [
        {
          "output_type": "execute_result",
          "data": {
            "text/plain": [
              "True"
            ]
          },
          "metadata": {},
          "execution_count": 3
        }
      ]
    },
    {
      "cell_type": "code",
      "source": [
        "Solution().validPalindrome(\"abca\")"
      ],
      "metadata": {
        "colab": {
          "base_uri": "https://localhost:8080/"
        },
        "id": "96co8LcbHCf1",
        "outputId": "ac2daaa9-e880-4f73-aa47-26ffcbc6f714"
      },
      "execution_count": 4,
      "outputs": [
        {
          "output_type": "execute_result",
          "data": {
            "text/plain": [
              "True"
            ]
          },
          "metadata": {},
          "execution_count": 4
        }
      ]
    },
    {
      "cell_type": "code",
      "source": [
        "Solution().validPalindrome(\"abc\")"
      ],
      "metadata": {
        "colab": {
          "base_uri": "https://localhost:8080/"
        },
        "id": "s6nudR9_HNiG",
        "outputId": "f9eedc88-d511-43ae-c649-6dbb84900d5a"
      },
      "execution_count": 5,
      "outputs": [
        {
          "output_type": "execute_result",
          "data": {
            "text/plain": [
              "False"
            ]
          },
          "metadata": {},
          "execution_count": 5
        }
      ]
    },
    {
      "cell_type": "code",
      "source": [],
      "metadata": {
        "id": "4GXBE06oHRmR"
      },
      "execution_count": null,
      "outputs": []
    },
    {
      "cell_type": "code",
      "source": [
        "#Optimized according to Leetcode, ChatGPT\n",
        "\n",
        "class Solution:\n",
        "    def validPalindrome(self, s):\n",
        "        def check_palindrome(s, i, j):\n",
        "            while i < j:\n",
        "                if s[i] != s[j]:\n",
        "                    return False\n",
        "                i += 1\n",
        "                j -= 1\n",
        "\n",
        "            return True\n",
        "\n",
        "        i = 0\n",
        "        j = len(s) - 1\n",
        "        while i < j:\n",
        "            # Found a mismatched pair - try both deletions\n",
        "            if s[i] != s[j]:\n",
        "                return check_palindrome(s, i, j - 1) or check_palindrome(s, i + 1, j)\n",
        "            i += 1\n",
        "            j -= 1\n",
        "\n",
        "        return True"
      ],
      "metadata": {
        "id": "T_gcyoqUHqUq"
      },
      "execution_count": 6,
      "outputs": []
    },
    {
      "cell_type": "code",
      "source": [
        "Solution().validPalindrome(\"abc\")"
      ],
      "metadata": {
        "colab": {
          "base_uri": "https://localhost:8080/"
        },
        "id": "J5ed6bJjHqX3",
        "outputId": "c05ff77b-f2d8-4a60-9d0b-b927c84b4ef1"
      },
      "execution_count": 7,
      "outputs": [
        {
          "output_type": "execute_result",
          "data": {
            "text/plain": [
              "False"
            ]
          },
          "metadata": {},
          "execution_count": 7
        }
      ]
    },
    {
      "cell_type": "code",
      "source": [
        "Solution().validPalindrome(\"abccba\")"
      ],
      "metadata": {
        "colab": {
          "base_uri": "https://localhost:8080/"
        },
        "id": "CGli9gXuHqcX",
        "outputId": "6452a2f8-a62b-4472-bfcb-886a4b21b0c6"
      },
      "execution_count": 8,
      "outputs": [
        {
          "output_type": "execute_result",
          "data": {
            "text/plain": [
              "True"
            ]
          },
          "metadata": {},
          "execution_count": 8
        }
      ]
    },
    {
      "cell_type": "code",
      "source": [
        "Solution().validPalindrome(\"abca\")"
      ],
      "metadata": {
        "colab": {
          "base_uri": "https://localhost:8080/"
        },
        "id": "g1YYT9YoH8H5",
        "outputId": "9076c67b-63ed-4439-e596-50d5cf100f1c"
      },
      "execution_count": 9,
      "outputs": [
        {
          "output_type": "execute_result",
          "data": {
            "text/plain": [
              "True"
            ]
          },
          "metadata": {},
          "execution_count": 9
        }
      ]
    },
    {
      "cell_type": "code",
      "source": [],
      "metadata": {
        "id": "QLCB_j0oH-jA"
      },
      "execution_count": null,
      "outputs": []
    }
  ]
}