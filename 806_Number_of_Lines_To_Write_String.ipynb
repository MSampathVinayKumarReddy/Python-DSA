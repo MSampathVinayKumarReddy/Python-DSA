{
  "nbformat": 4,
  "nbformat_minor": 0,
  "metadata": {
    "colab": {
      "provenance": []
    },
    "kernelspec": {
      "name": "python3",
      "display_name": "Python 3"
    },
    "language_info": {
      "name": "python"
    }
  },
  "cells": [
    {
      "cell_type": "code",
      "source": [
        "#General\n",
        "\n",
        "#widths = [4,10,10,10,10,10,10,10,10,10,10,10,10,10,10,10,10,10,10,10,10,10,10,10,10,10]\n",
        "#s = \"bbbcccdddaaa\"\n",
        "\n",
        "widths = [10,10,10,10,10,10,10,10,10,10,10,10,10,10,10,10,10,10,10,10,10,10,10,10,10,10]\n",
        "s = \"abcdefghijklmnopqrstuvwxyz\""
      ],
      "metadata": {
        "id": "SQJQJB6mQxcG"
      },
      "execution_count": 21,
      "outputs": []
    },
    {
      "cell_type": "code",
      "source": [
        "#take line and space\n",
        "\n",
        "line = 1\n",
        "space = 0\n",
        "\n",
        "#get space fore each char in \"s\" from widths\n",
        "for char in s:\n",
        "  #widths[0] is the width of 'a', widths[1] is the width of 'b', and so on.\n",
        "  #ord('a') is 97 by default in Python - so [ord('a') - ord('a')] is widths[0] similarly [ord('b') - ord('a')] = [98 - 97] = widths[1] and so on\n",
        "  word_space = widths[ord(char) - ord('a')] #gets space value for that element\n",
        "  space += word_space #adding it to space\n",
        "\n",
        "  if space > 100:\n",
        "    line += 1\n",
        "    space = word_space #any char is increasing the space > 100 then it will be another line and space starting from it\n",
        "\n",
        "print(line, space)"
      ],
      "metadata": {
        "colab": {
          "base_uri": "https://localhost:8080/"
        },
        "id": "nZwhYz3gQxQC",
        "outputId": "1420d39f-9cc8-4add-cb41-31d25d093b46"
      },
      "execution_count": 22,
      "outputs": [
        {
          "output_type": "stream",
          "name": "stdout",
          "text": [
            "3 60\n"
          ]
        }
      ]
    },
    {
      "cell_type": "code",
      "source": [],
      "metadata": {
        "id": "bw8pkZ2qQxCQ"
      },
      "execution_count": null,
      "outputs": []
    },
    {
      "cell_type": "code",
      "source": [
        "class Solution:\n",
        "    def numberOfLines(self, widths, s):\n",
        "        lines = 1\n",
        "        width = 0\n",
        "\n",
        "        for char in s:\n",
        "            w = widths[ord(char) - ord('a')]\n",
        "            width += w\n",
        "\n",
        "            if width > 100:\n",
        "                lines += 1\n",
        "                width = w\n",
        "\n",
        "        return [lines, width]"
      ],
      "metadata": {
        "id": "inJQeZv9PeFK"
      },
      "execution_count": 14,
      "outputs": []
    },
    {
      "cell_type": "code",
      "source": [
        "Solution().numberOfLines([10,10,10,10,10,10,10,10,10,10,10,10,10,10,10,10,10,10,10,10,10,10,10,10,10,10],\"abcdefghijklmnopqrstuvwxyz\")"
      ],
      "metadata": {
        "colab": {
          "base_uri": "https://localhost:8080/"
        },
        "id": "HT9k2-0-PeHh",
        "outputId": "0501cb0e-8844-44be-e1db-5c3d2d48c3db"
      },
      "execution_count": 15,
      "outputs": [
        {
          "output_type": "execute_result",
          "data": {
            "text/plain": [
              "[3, 60]"
            ]
          },
          "metadata": {},
          "execution_count": 15
        }
      ]
    },
    {
      "cell_type": "code",
      "source": [
        "Solution().numberOfLines([4,10,10,10,10,10,10,10,10,10,10,10,10,10,10,10,10,10,10,10,10,10,10,10,10,10], \"bbbcccdddaaa\")"
      ],
      "metadata": {
        "colab": {
          "base_uri": "https://localhost:8080/"
        },
        "id": "UfmKhDjXPeKD",
        "outputId": "36511ace-6d34-4bbd-c5f6-e5ea1b0bf8c7"
      },
      "execution_count": 16,
      "outputs": [
        {
          "output_type": "execute_result",
          "data": {
            "text/plain": [
              "[2, 4]"
            ]
          },
          "metadata": {},
          "execution_count": 16
        }
      ]
    },
    {
      "cell_type": "code",
      "source": [],
      "metadata": {
        "id": "w8TneW_OPeOG"
      },
      "execution_count": null,
      "outputs": []
    },
    {
      "cell_type": "code",
      "source": [],
      "metadata": {
        "id": "GtEmhH0UPeZk"
      },
      "execution_count": null,
      "outputs": []
    }
  ]
}