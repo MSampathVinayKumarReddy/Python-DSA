{
  "nbformat": 4,
  "nbformat_minor": 0,
  "metadata": {
    "colab": {
      "provenance": []
    },
    "kernelspec": {
      "name": "python3",
      "display_name": "Python 3"
    },
    "language_info": {
      "name": "python"
    }
  },
  "cells": [
    {
      "cell_type": "code",
      "execution_count": 15,
      "metadata": {
        "id": "qQ2s10ak8BPC"
      },
      "outputs": [],
      "source": [
        "#BruteForce Method\n",
        "jewels = \"aA\"\n",
        "stones = \"aAAbbbb\""
      ]
    },
    {
      "cell_type": "code",
      "source": [
        "final = ''\n",
        "for i in stones:\n",
        "  if i in jewels:\n",
        "    final += i\n",
        "\n",
        "print(len(final))"
      ],
      "metadata": {
        "colab": {
          "base_uri": "https://localhost:8080/"
        },
        "id": "vESGKzXv8DSi",
        "outputId": "75e99c1a-6834-404c-b15e-61cef3eee2b8"
      },
      "execution_count": 11,
      "outputs": [
        {
          "output_type": "stream",
          "name": "stdout",
          "text": [
            "3\n"
          ]
        }
      ]
    },
    {
      "cell_type": "code",
      "source": [
        "#OptimizedMethod\n",
        "\n",
        "class Solution:\n",
        "    def numJewelsInStones(self, jewels, stones):\n",
        "      count = 0\n",
        "\n",
        "      for i in stones:\n",
        "        if i in jewels:\n",
        "          count += 1\n",
        "\n",
        "      return count"
      ],
      "metadata": {
        "id": "2EBgDBF68DfT"
      },
      "execution_count": 12,
      "outputs": []
    },
    {
      "cell_type": "code",
      "source": [
        "Solution().numJewelsInStones(jewels = \"aA\", stones = \"aAAbbbb\")"
      ],
      "metadata": {
        "colab": {
          "base_uri": "https://localhost:8080/"
        },
        "id": "UPMLj2xn8Diq",
        "outputId": "440a4bf1-09ee-477f-c7f7-fb1a221f1f05"
      },
      "execution_count": 13,
      "outputs": [
        {
          "output_type": "execute_result",
          "data": {
            "text/plain": [
              "3"
            ]
          },
          "metadata": {},
          "execution_count": 13
        }
      ]
    },
    {
      "cell_type": "code",
      "source": [
        "Solution().numJewelsInStones(jewels = \"z\", stones = \"ZZ\")"
      ],
      "metadata": {
        "colab": {
          "base_uri": "https://localhost:8080/"
        },
        "id": "lls8I0HY-2VY",
        "outputId": "e6d816dd-8af7-43bf-8bdf-e4a970adf049"
      },
      "execution_count": 14,
      "outputs": [
        {
          "output_type": "execute_result",
          "data": {
            "text/plain": [
              "0"
            ]
          },
          "metadata": {},
          "execution_count": 14
        }
      ]
    },
    {
      "cell_type": "code",
      "source": [
        "#Another Simplest Method\n",
        "\n",
        "print(sum(stone in jewels for stone in stones))"
      ],
      "metadata": {
        "colab": {
          "base_uri": "https://localhost:8080/"
        },
        "id": "C4zxRCF8-6x8",
        "outputId": "26059d59-d8a0-4061-c43a-008f657f0329"
      },
      "execution_count": 16,
      "outputs": [
        {
          "output_type": "stream",
          "name": "stdout",
          "text": [
            "3\n"
          ]
        }
      ]
    },
    {
      "cell_type": "code",
      "source": [],
      "metadata": {
        "id": "fV4-wTD0_422"
      },
      "execution_count": null,
      "outputs": []
    }
  ]
}