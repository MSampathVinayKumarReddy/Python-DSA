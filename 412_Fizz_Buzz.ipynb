{
  "nbformat": 4,
  "nbformat_minor": 0,
  "metadata": {
    "colab": {
      "provenance": []
    },
    "kernelspec": {
      "name": "python3",
      "display_name": "Python 3"
    },
    "language_info": {
      "name": "python"
    }
  },
  "cells": [
    {
      "cell_type": "code",
      "source": [
        "#Brute Force- almost effecient\n",
        "class Solution:\n",
        "    def fizzBuzz(self, n):\n",
        "        sol = []\n",
        "        for i in range(1, n + 1):\n",
        "            if i%3==0 and i%5==0:\n",
        "                sol.append(\"FizzBuzz\")\n",
        "            elif i%3==0:\n",
        "                sol.append(\"Fizz\")\n",
        "            elif i%5==0:\n",
        "                sol.append(\"Buzz\")\n",
        "            else:\n",
        "                sol.append(str(i))\n",
        "\n",
        "        return sol"
      ],
      "metadata": {
        "id": "mu5nBv823p-0"
      },
      "execution_count": 10,
      "outputs": []
    },
    {
      "cell_type": "code",
      "source": [
        "Solution().fizzBuzz(15)"
      ],
      "metadata": {
        "colab": {
          "base_uri": "https://localhost:8080/"
        },
        "id": "ahTiXUxh3qDt",
        "outputId": "4960b648-8be9-4d2c-d3c7-3cab1dcd03b8"
      },
      "execution_count": 13,
      "outputs": [
        {
          "output_type": "execute_result",
          "data": {
            "text/plain": [
              "['1',\n",
              " '2',\n",
              " 'Fizz',\n",
              " '4',\n",
              " 'Buzz',\n",
              " 'Fizz',\n",
              " '7',\n",
              " '8',\n",
              " 'Fizz',\n",
              " 'Buzz',\n",
              " '11',\n",
              " 'Fizz',\n",
              " '13',\n",
              " '14',\n",
              " 'FizzBuzz']"
            ]
          },
          "metadata": {},
          "execution_count": 13
        }
      ]
    },
    {
      "cell_type": "code",
      "source": [],
      "metadata": {
        "id": "KxH2gXjk3qIH"
      },
      "execution_count": null,
      "outputs": []
    },
    {
      "cell_type": "code",
      "source": [],
      "metadata": {
        "id": "Sa4mKbRY3qML"
      },
      "execution_count": null,
      "outputs": []
    }
  ]
}