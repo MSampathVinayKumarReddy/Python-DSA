{
  "nbformat": 4,
  "nbformat_minor": 0,
  "metadata": {
    "colab": {
      "provenance": []
    },
    "kernelspec": {
      "name": "python3",
      "display_name": "Python 3"
    },
    "language_info": {
      "name": "python"
    }
  },
  "cells": [
    {
      "cell_type": "code",
      "source": [
        "#brute force\n",
        "class Solution:\n",
        "    def isAnagram(self, s, t):\n",
        "        return sorted(s) == sorted(t)"
      ],
      "metadata": {
        "id": "yn_i6JpV4vZw"
      },
      "execution_count": 5,
      "outputs": []
    },
    {
      "cell_type": "code",
      "source": [
        "Solution().isAnagram(s = \"anagram\", t = \"nagaram\")"
      ],
      "metadata": {
        "colab": {
          "base_uri": "https://localhost:8080/"
        },
        "id": "bwmIbZyX4vcQ",
        "outputId": "d29ea96f-6f6b-4a8e-9dcc-bbf4576e7f66"
      },
      "execution_count": 6,
      "outputs": [
        {
          "output_type": "execute_result",
          "data": {
            "text/plain": [
              "True"
            ]
          },
          "metadata": {},
          "execution_count": 6
        }
      ]
    },
    {
      "cell_type": "code",
      "source": [
        "#Optimized -  create dict for both, compare the dict\n",
        "\n",
        "from collections import Counter\n",
        "class Solution2:\n",
        "  def anagram(self, s, t):\n",
        "    return Counter(s) == Counter(t)"
      ],
      "metadata": {
        "id": "UQe-5nPA4vet"
      },
      "execution_count": 7,
      "outputs": []
    },
    {
      "cell_type": "code",
      "source": [
        "Solution2().anagram(s = \"mas\", t = \"sam\")"
      ],
      "metadata": {
        "colab": {
          "base_uri": "https://localhost:8080/"
        },
        "id": "FvjeUcqE4vhJ",
        "outputId": "1557c6a6-f420-48d7-efb9-3d7d3a2d1f51"
      },
      "execution_count": 8,
      "outputs": [
        {
          "output_type": "execute_result",
          "data": {
            "text/plain": [
              "True"
            ]
          },
          "metadata": {},
          "execution_count": 8
        }
      ]
    },
    {
      "cell_type": "code",
      "source": [
        "Solution2().anagram(s = \"mas\", t = \"samm\")"
      ],
      "metadata": {
        "colab": {
          "base_uri": "https://localhost:8080/"
        },
        "id": "QBmSsTYB4vjv",
        "outputId": "789aca0d-d755-4c62-a580-a2208cac3431"
      },
      "execution_count": 9,
      "outputs": [
        {
          "output_type": "execute_result",
          "data": {
            "text/plain": [
              "False"
            ]
          },
          "metadata": {},
          "execution_count": 9
        }
      ]
    },
    {
      "cell_type": "code",
      "source": [],
      "metadata": {
        "id": "3V4XE00K4vmx"
      },
      "execution_count": null,
      "outputs": []
    }
  ]
}