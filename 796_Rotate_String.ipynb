{
  "nbformat": 4,
  "nbformat_minor": 0,
  "metadata": {
    "colab": {
      "provenance": []
    },
    "kernelspec": {
      "name": "python3",
      "display_name": "Python 3"
    },
    "language_info": {
      "name": "python"
    }
  },
  "cells": [
    {
      "cell_type": "code",
      "source": [
        "s = \"abcde\"\n",
        "goal = \"bcdea\"\n"
      ],
      "metadata": {
        "id": "kQ6W9xoeNwnv"
      },
      "execution_count": 1,
      "outputs": []
    },
    {
      "cell_type": "code",
      "source": [
        "if len(s) != len(goal):\n",
        "  print(\"Problem Incorrect\")\n",
        "\n",
        "for i in range(len(s)):\n",
        "  rotated_string = s[i:] + s[:i]\n",
        "  print(rotated_string)\n",
        "  if rotated_string == goal:\n",
        "    print(f\"this is solution {rotated_string}\")\n"
      ],
      "metadata": {
        "colab": {
          "base_uri": "https://localhost:8080/"
        },
        "id": "5pahj9ufNw-y",
        "outputId": "065e0a69-e741-484b-8584-b942e4e52a65"
      },
      "execution_count": 6,
      "outputs": [
        {
          "output_type": "stream",
          "name": "stdout",
          "text": [
            "abcde\n",
            "bcdea\n",
            "this is solution bcdea\n",
            "cdeab\n",
            "deabc\n",
            "eabcd\n"
          ]
        }
      ]
    },
    {
      "cell_type": "code",
      "source": [],
      "metadata": {
        "id": "2mTADagENxCT"
      },
      "execution_count": null,
      "outputs": []
    },
    {
      "cell_type": "code",
      "source": [
        "##BruteForce Approach\n",
        "\n",
        "class Solution:\n",
        "    def rotateString(self, s, goal):\n",
        "        if len(s) != len(goal):\n",
        "            return False\n",
        "\n",
        "        for i in range(len(s)):\n",
        "            rotated = s[i:] + s[:i]\n",
        "            if rotated == goal:\n",
        "                return True\n",
        "        return False"
      ],
      "metadata": {
        "id": "nSL2s3TNNxF2"
      },
      "execution_count": 7,
      "outputs": []
    },
    {
      "cell_type": "code",
      "source": [
        "Solution().rotateString(s=\"abcde\", goal=\"bcdea\")"
      ],
      "metadata": {
        "colab": {
          "base_uri": "https://localhost:8080/"
        },
        "id": "V4eX4JjTNxIy",
        "outputId": "685280e1-2c97-46e2-ee31-bbe808921155"
      },
      "execution_count": 8,
      "outputs": [
        {
          "output_type": "execute_result",
          "data": {
            "text/plain": [
              "True"
            ]
          },
          "metadata": {},
          "execution_count": 8
        }
      ]
    },
    {
      "cell_type": "code",
      "source": [
        "#Optimized Approach according to ChatGPT\n",
        "\n",
        "def ro_string(s, goal):\n",
        "  if len(s) != len(goal):\n",
        "    return False\n",
        "\n",
        "  return goal in s+s"
      ],
      "metadata": {
        "id": "_h5po0q2QFu-"
      },
      "execution_count": 9,
      "outputs": []
    },
    {
      "cell_type": "code",
      "source": [
        "ro_string(s=\"abcde\", goal=\"bcdea\")"
      ],
      "metadata": {
        "colab": {
          "base_uri": "https://localhost:8080/"
        },
        "id": "lveLckOYQklw",
        "outputId": "b3265490-c74b-4f88-8c6b-2bbf3a39c5c8"
      },
      "execution_count": 11,
      "outputs": [
        {
          "output_type": "execute_result",
          "data": {
            "text/plain": [
              "True"
            ]
          },
          "metadata": {},
          "execution_count": 11
        }
      ]
    },
    {
      "cell_type": "code",
      "source": [],
      "metadata": {
        "id": "BHUxXlUkQmOY"
      },
      "execution_count": null,
      "outputs": []
    },
    {
      "cell_type": "code",
      "source": [],
      "metadata": {
        "id": "tognFEKpQmUn"
      },
      "execution_count": null,
      "outputs": []
    },
    {
      "cell_type": "code",
      "source": [],
      "metadata": {
        "id": "BreFt_23QlLn"
      },
      "execution_count": null,
      "outputs": []
    }
  ]
}