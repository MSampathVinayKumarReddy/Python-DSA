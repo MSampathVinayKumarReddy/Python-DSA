{
  "nbformat": 4,
  "nbformat_minor": 0,
  "metadata": {
    "colab": {
      "provenance": []
    },
    "kernelspec": {
      "name": "python3",
      "display_name": "Python 3"
    },
    "language_info": {
      "name": "python"
    }
  },
  "cells": [
    {
      "cell_type": "code",
      "source": [
        "class Solution:\n",
        "    def isPalindrome(self, s: str) -> bool:\n",
        "        newStr = \"\"\n",
        "        for char in s:\n",
        "            if char.isalnum():\n",
        "                newStr += char.lower()\n",
        "\n",
        "        return newStr == newStr[::-1]"
      ],
      "metadata": {
        "id": "_OMK7_fyn4Am"
      },
      "execution_count": 8,
      "outputs": []
    },
    {
      "cell_type": "code",
      "source": [
        "Solution().isPalindrome(\"A man, a plan, a canal: Panama\")"
      ],
      "metadata": {
        "colab": {
          "base_uri": "https://localhost:8080/"
        },
        "id": "4gRFt1LNn4DP",
        "outputId": "d9f7b1f5-6be9-47c0-e55f-da9cbd5e77ef"
      },
      "execution_count": 9,
      "outputs": [
        {
          "output_type": "execute_result",
          "data": {
            "text/plain": [
              "True"
            ]
          },
          "metadata": {},
          "execution_count": 9
        }
      ]
    },
    {
      "cell_type": "code",
      "source": [
        "class Solution:\n",
        "    def isPalindrome(self, s: str) -> bool:\n",
        "        s = [i for i in s.lower() if i.isalnum()]\n",
        "        return s == s[::-1]"
      ],
      "metadata": {
        "id": "npkxMm7Cn4F5"
      },
      "execution_count": 10,
      "outputs": []
    },
    {
      "cell_type": "code",
      "source": [
        "Solution().isPalindrome(\"Malayalam\")"
      ],
      "metadata": {
        "colab": {
          "base_uri": "https://localhost:8080/"
        },
        "id": "boGI-2uFn4Jj",
        "outputId": "96723502-fff9-4bf9-bf17-4e54198fbd94"
      },
      "execution_count": 11,
      "outputs": [
        {
          "output_type": "execute_result",
          "data": {
            "text/plain": [
              "True"
            ]
          },
          "metadata": {},
          "execution_count": 11
        }
      ]
    },
    {
      "cell_type": "code",
      "source": [],
      "metadata": {
        "id": "s5KkARB1oQbA"
      },
      "execution_count": null,
      "outputs": []
    }
  ]
}