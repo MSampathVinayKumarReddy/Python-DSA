{
  "nbformat": 4,
  "nbformat_minor": 0,
  "metadata": {
    "colab": {
      "provenance": []
    },
    "kernelspec": {
      "name": "python3",
      "display_name": "Python 3"
    },
    "language_info": {
      "name": "python"
    }
  },
  "cells": [
    {
      "cell_type": "code",
      "source": [
        "#Runtime Efficient Solution\n",
        "class Solution:\n",
        "    def strStr(self, haystack: str, needle: str) -> int:\n",
        "        if len(needle) > len(haystack):\n",
        "            return -1\n",
        "\n",
        "        #pick the substring from each index(haystack) and check with needle\n",
        "        for i in range(len(haystack)):\n",
        "            if haystack[i : i + len(needle)] == needle:\n",
        "                return i\n",
        "        return -1"
      ],
      "metadata": {
        "id": "v6PrD9bHB9tt"
      },
      "execution_count": 11,
      "outputs": []
    },
    {
      "cell_type": "code",
      "source": [
        "Solution().strStr(\"sampath\", \"path\")"
      ],
      "metadata": {
        "colab": {
          "base_uri": "https://localhost:8080/"
        },
        "id": "jaCm2gWtB9wF",
        "outputId": "20ee94be-5f4f-47ee-a4d3-3c1eda5e6638"
      },
      "execution_count": 12,
      "outputs": [
        {
          "output_type": "execute_result",
          "data": {
            "text/plain": [
              "3"
            ]
          },
          "metadata": {},
          "execution_count": 12
        }
      ]
    },
    {
      "cell_type": "code",
      "source": [
        "Solution().strStr(\"MReddySampath\", \"Reddy\")"
      ],
      "metadata": {
        "colab": {
          "base_uri": "https://localhost:8080/"
        },
        "id": "cuvpPancB9y4",
        "outputId": "da2aa551-b5b4-4ce3-d76a-630d4f9eb269"
      },
      "execution_count": 14,
      "outputs": [
        {
          "output_type": "execute_result",
          "data": {
            "text/plain": [
              "1"
            ]
          },
          "metadata": {},
          "execution_count": 14
        }
      ]
    },
    {
      "cell_type": "code",
      "source": [],
      "metadata": {
        "id": "f59rn-ndB95v"
      },
      "execution_count": null,
      "outputs": []
    },
    {
      "cell_type": "code",
      "source": [
        "#same approach, sama efficiency\n",
        "class Solution:\n",
        "    def strStr(self, haystack: str, needle: str) -> int:\n",
        "        i = 0\n",
        "        j = len(needle)\n",
        "\n",
        "        while j <= len(haystack):\n",
        "            sol = haystack[i:j]\n",
        "            if sol == needle:\n",
        "                return i\n",
        "            i += 1\n",
        "            j += 1\n",
        "\n",
        "        return -1"
      ],
      "metadata": {
        "id": "_DeeN9uVB98h"
      },
      "execution_count": 17,
      "outputs": []
    },
    {
      "cell_type": "code",
      "source": [
        "Solution().strStr(\"AnirudhDevara\", \"Devara\")"
      ],
      "metadata": {
        "colab": {
          "base_uri": "https://localhost:8080/"
        },
        "id": "XZVCFxVkF3FR",
        "outputId": "b02b7097-996f-4a34-c863-5bcc64a9623e"
      },
      "execution_count": 18,
      "outputs": [
        {
          "output_type": "execute_result",
          "data": {
            "text/plain": [
              "7"
            ]
          },
          "metadata": {},
          "execution_count": 18
        }
      ]
    },
    {
      "cell_type": "code",
      "source": [],
      "metadata": {
        "id": "ktKswXWgF9F5"
      },
      "execution_count": null,
      "outputs": []
    }
  ]
}