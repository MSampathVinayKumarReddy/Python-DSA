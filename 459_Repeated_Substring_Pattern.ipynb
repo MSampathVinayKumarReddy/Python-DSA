{
  "nbformat": 4,
  "nbformat_minor": 0,
  "metadata": {
    "colab": {
      "provenance": []
    },
    "kernelspec": {
      "name": "python3",
      "display_name": "Python 3"
    },
    "language_info": {
      "name": "python"
    }
  },
  "cells": [
    {
      "cell_type": "code",
      "source": [
        "#Step by step approach - Bruteforce by ChatGPT\n",
        "\n",
        "def repSubstring(s):\n",
        "  n = len(s) #lenght of string\n",
        "\n",
        "  for i in range(1, n//2 + 1):  #get all chars from s till half of the s\n",
        "    if n % i == 0: #6%1, 6%2, 6%3 is possible combination but from 6%4 it will not be combination\n",
        "      subs = s[:i] #select substring\n",
        "      if subs * (n//i) == s:\n",
        "        return True\n",
        "\n",
        "  return False"
      ],
      "metadata": {
        "id": "QDXMisF-YYG7"
      },
      "execution_count": 14,
      "outputs": []
    },
    {
      "cell_type": "code",
      "source": [
        "repSubstring(\"abaaba\")"
      ],
      "metadata": {
        "colab": {
          "base_uri": "https://localhost:8080/"
        },
        "id": "3r0yKYrEbXSs",
        "outputId": "79c3c1d8-7500-456e-8c2d-758373d5f33d"
      },
      "execution_count": 15,
      "outputs": [
        {
          "output_type": "execute_result",
          "data": {
            "text/plain": [
              "True"
            ]
          },
          "metadata": {},
          "execution_count": 15
        }
      ]
    },
    {
      "cell_type": "code",
      "source": [
        "repSubstring(\"abcda\")"
      ],
      "metadata": {
        "colab": {
          "base_uri": "https://localhost:8080/"
        },
        "id": "t-3RoEoBbXVL",
        "outputId": "31271258-fc29-479b-88c1-26a94e0f293f"
      },
      "execution_count": 16,
      "outputs": [
        {
          "output_type": "execute_result",
          "data": {
            "text/plain": [
              "False"
            ]
          },
          "metadata": {},
          "execution_count": 16
        }
      ]
    },
    {
      "cell_type": "code",
      "source": [
        "repSubstring(\"abcdabcd\")"
      ],
      "metadata": {
        "colab": {
          "base_uri": "https://localhost:8080/"
        },
        "id": "zOBEbVKRbXYQ",
        "outputId": "c7cc7e0c-a0fd-43bf-8ac9-7413ae360278"
      },
      "execution_count": 17,
      "outputs": [
        {
          "output_type": "execute_result",
          "data": {
            "text/plain": [
              "True"
            ]
          },
          "metadata": {},
          "execution_count": 17
        }
      ]
    },
    {
      "cell_type": "code",
      "source": [
        "#Most simple, efficient and easy understanding\n",
        "\n",
        "def repSubstringSimple(s):\n",
        "  doubled = s + s\n",
        "\n",
        "  return s in doubled[1:-1]"
      ],
      "metadata": {
        "id": "3ZULmq_0aATz"
      },
      "execution_count": 23,
      "outputs": []
    },
    {
      "cell_type": "code",
      "source": [
        "repSubstringSimple(\"ababababab\")"
      ],
      "metadata": {
        "colab": {
          "base_uri": "https://localhost:8080/"
        },
        "id": "CLePSZ7Qdtel",
        "outputId": "ed4c264f-a6e2-44a6-ab71-88e00e5d8be6"
      },
      "execution_count": 24,
      "outputs": [
        {
          "output_type": "execute_result",
          "data": {
            "text/plain": [
              "True"
            ]
          },
          "metadata": {},
          "execution_count": 24
        }
      ]
    },
    {
      "cell_type": "code",
      "source": [
        "repSubstringSimple(\"fafbfaf\")"
      ],
      "metadata": {
        "colab": {
          "base_uri": "https://localhost:8080/"
        },
        "id": "pkmnZ9jVebCH",
        "outputId": "d9fc8e20-1cb2-416e-f2d0-fefe3bf2d005"
      },
      "execution_count": 25,
      "outputs": [
        {
          "output_type": "execute_result",
          "data": {
            "text/plain": [
              "False"
            ]
          },
          "metadata": {},
          "execution_count": 25
        }
      ]
    },
    {
      "cell_type": "code",
      "source": [],
      "metadata": {
        "id": "m6FR7EUvebEt"
      },
      "execution_count": null,
      "outputs": []
    },
    {
      "cell_type": "code",
      "source": [],
      "metadata": {
        "id": "-rox7YpdebIJ"
      },
      "execution_count": null,
      "outputs": []
    }
  ]
}