{
  "nbformat": 4,
  "nbformat_minor": 0,
  "metadata": {
    "colab": {
      "provenance": []
    },
    "kernelspec": {
      "name": "python3",
      "display_name": "Python 3"
    },
    "language_info": {
      "name": "python"
    }
  },
  "cells": [
    {
      "cell_type": "code",
      "source": [
        "class Solution:\n",
        "    def shortestCompletingWord(self, licensePlate, words):\n",
        "        #remove non alphabetic chars and make a string\n",
        "        licensePlate = \"\".join([char.lower() for char in licensePlate if char.isalpha()])\n",
        "        #sorting words based on Len, as we need shortest\n",
        "        words = sorted(words, key=len)\n",
        "\n",
        "        #for each word, go to each char in licensePlat and check the count in both lic, word\n",
        "        for word in words:\n",
        "            for i in range(len(licensePlate)):\n",
        "                if word.count(licensePlate[i]) < licensePlate.count(licensePlate[i]):\n",
        "                    #count of any char is not matching break\n",
        "                    break\n",
        "                #if all char count is matching till last char licensePlate return word\n",
        "                if i == len(licensePlate) - 1:\n",
        "                    return word"
      ],
      "metadata": {
        "id": "Mpb0e-Dv4uQR"
      },
      "execution_count": 12,
      "outputs": []
    },
    {
      "cell_type": "code",
      "source": [
        "Solution().shortestCompletingWord(licensePlate = \"1s3 PSt\", words = [\"step\",\"steps\",\"stripe\",\"stepple\"])"
      ],
      "metadata": {
        "colab": {
          "base_uri": "https://localhost:8080/",
          "height": 36
        },
        "id": "70KmJvvQ4uTC",
        "outputId": "1970e4c0-0000-4593-92f2-7fdf276d11aa"
      },
      "execution_count": 13,
      "outputs": [
        {
          "output_type": "execute_result",
          "data": {
            "text/plain": [
              "'steps'"
            ],
            "application/vnd.google.colaboratory.intrinsic+json": {
              "type": "string"
            }
          },
          "metadata": {},
          "execution_count": 13
        }
      ]
    },
    {
      "cell_type": "code",
      "source": [
        "Solution().shortestCompletingWord(licensePlate = \"1s3 456\", words = [\"looks\",\"pest\",\"stew\",\"show\"])"
      ],
      "metadata": {
        "colab": {
          "base_uri": "https://localhost:8080/",
          "height": 36
        },
        "id": "KQ35KNeR4ucR",
        "outputId": "5c36f682-e455-419c-8559-78b54562228c"
      },
      "execution_count": 14,
      "outputs": [
        {
          "output_type": "execute_result",
          "data": {
            "text/plain": [
              "'pest'"
            ],
            "application/vnd.google.colaboratory.intrinsic+json": {
              "type": "string"
            }
          },
          "metadata": {},
          "execution_count": 14
        }
      ]
    },
    {
      "cell_type": "code",
      "source": [],
      "metadata": {
        "id": "61QOb1mi5qSC"
      },
      "execution_count": null,
      "outputs": []
    },
    {
      "cell_type": "code",
      "source": [
        "#Very Optimized and Efficient Solution - GPT\n",
        "\n",
        "from collections import Counter\n",
        "\n",
        "class Solution:\n",
        "    def shortestCompletingWord(self, licensePlate: str, words) -> str:\n",
        "        # Step 1: Preprocess licensePlate to filter out non-alphabetic chars and count letters\n",
        "        license_count = Counter(char.lower() for char in licensePlate if char.isalpha())\n",
        "\n",
        "        # Step 2: Iterate over the words, looking for the shortest valid word\n",
        "        shortest_word = None\n",
        "\n",
        "        for word in words:\n",
        "            word_count = Counter(word)\n",
        "\n",
        "            # Step 3: Check if the word can \"complete\" the license plate (i.e., satisfy all character counts)\n",
        "            if all(word_count[char] >= license_count[char] for char in license_count):\n",
        "                # Update the shortest word if this one is valid and shorter\n",
        "                if shortest_word is None or len(word) < len(shortest_word):\n",
        "                    shortest_word = word\n",
        "\n",
        "        return shortest_word\n"
      ],
      "metadata": {
        "id": "4XLvXlvd6t7Q"
      },
      "execution_count": 16,
      "outputs": []
    },
    {
      "cell_type": "code",
      "source": [
        "Solution().shortestCompletingWord(licensePlate = \"1s3 456\", words = [\"looks\",\"pest\",\"stew\",\"show\"])"
      ],
      "metadata": {
        "colab": {
          "base_uri": "https://localhost:8080/",
          "height": 36
        },
        "id": "a4ojRsbv6txv",
        "outputId": "5b03befa-cf09-4390-9a76-5b49f280d3b9"
      },
      "execution_count": 17,
      "outputs": [
        {
          "output_type": "execute_result",
          "data": {
            "text/plain": [
              "'pest'"
            ],
            "application/vnd.google.colaboratory.intrinsic+json": {
              "type": "string"
            }
          },
          "metadata": {},
          "execution_count": 17
        }
      ]
    },
    {
      "cell_type": "code",
      "source": [
        "Solution().shortestCompletingWord(licensePlate = \"1s3 PSt\", words = [\"step\",\"steps\",\"stripe\",\"stepple\"])"
      ],
      "metadata": {
        "colab": {
          "base_uri": "https://localhost:8080/",
          "height": 36
        },
        "id": "IRRPTn6e6zlo",
        "outputId": "4db61988-2bd2-40cb-f644-5a27f7279887"
      },
      "execution_count": 18,
      "outputs": [
        {
          "output_type": "execute_result",
          "data": {
            "text/plain": [
              "'steps'"
            ],
            "application/vnd.google.colaboratory.intrinsic+json": {
              "type": "string"
            }
          },
          "metadata": {},
          "execution_count": 18
        }
      ]
    },
    {
      "cell_type": "code",
      "source": [],
      "metadata": {
        "id": "Jg9ZqRZz61uv"
      },
      "execution_count": null,
      "outputs": []
    },
    {
      "cell_type": "code",
      "source": [
        "#Same like above, but we iterate through the sorted list of words based on length\n",
        "from collections import Counter\n",
        "class Solution:\n",
        "    def shortestCompletingWord(self, licensePlate: str, words) -> str:\n",
        "        l_count = Counter(char.lower() for char in licensePlate if char.isalpha())\n",
        "\n",
        "        for word in sorted(words, key= len):\n",
        "            w_count = Counter(word)\n",
        "\n",
        "            if all(w_count[char] >= l_count[char] for char in l_count):\n",
        "                return word"
      ],
      "metadata": {
        "id": "rVzK4BMb91pe"
      },
      "execution_count": 20,
      "outputs": []
    },
    {
      "cell_type": "code",
      "source": [],
      "metadata": {
        "id": "2OyDUHgd91nJ"
      },
      "execution_count": null,
      "outputs": []
    },
    {
      "cell_type": "code",
      "source": [],
      "metadata": {
        "id": "LQsljX4891kU"
      },
      "execution_count": null,
      "outputs": []
    }
  ]
}