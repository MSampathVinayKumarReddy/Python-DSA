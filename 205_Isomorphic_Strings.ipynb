{
  "nbformat": 4,
  "nbformat_minor": 0,
  "metadata": {
    "colab": {
      "provenance": []
    },
    "kernelspec": {
      "name": "python3",
      "display_name": "Python 3"
    },
    "language_info": {
      "name": "python"
    }
  },
  "cells": [
    {
      "cell_type": "code",
      "source": [
        "#Runtime Efficient, but not so in Memory\n",
        "\n",
        "\n",
        "class Solution:\n",
        "    def isIsomorphic(self, s: str, t: str) -> bool:\n",
        "      #two lists to store idx value of each char\n",
        "        idxs1, idxs2 = [], []\n",
        "        #go to each char and get the idx value and store in list\n",
        "        for i in s:\n",
        "            idxs1.append(s.index(i))\n",
        "        for i in t:\n",
        "            idxs2.append(t.index(i))\n",
        "        #if both the indexes pattern is same then the solution\n",
        "        if idxs1 == idxs2:\n",
        "            return True\n",
        "\n",
        "        return False"
      ],
      "metadata": {
        "id": "WD0rFJNchk-f"
      },
      "execution_count": 11,
      "outputs": []
    },
    {
      "cell_type": "code",
      "source": [
        "Solution().isIsomorphic(s=\"app\", t=\"egg\")"
      ],
      "metadata": {
        "colab": {
          "base_uri": "https://localhost:8080/"
        },
        "id": "lPEAaqtqhlBN",
        "outputId": "908d43f1-770e-42f2-d657-07b388c8312e"
      },
      "execution_count": 12,
      "outputs": [
        {
          "output_type": "execute_result",
          "data": {
            "text/plain": [
              "True"
            ]
          },
          "metadata": {},
          "execution_count": 12
        }
      ]
    },
    {
      "cell_type": "code",
      "source": [
        "Solution().isIsomorphic(s=\"paper\", t=\"title\")"
      ],
      "metadata": {
        "colab": {
          "base_uri": "https://localhost:8080/"
        },
        "id": "BMDlgr3chlD1",
        "outputId": "ae093ab7-ab44-43c0-b9a6-37ebac869a61"
      },
      "execution_count": 13,
      "outputs": [
        {
          "output_type": "execute_result",
          "data": {
            "text/plain": [
              "True"
            ]
          },
          "metadata": {},
          "execution_count": 13
        }
      ]
    },
    {
      "cell_type": "code",
      "source": [],
      "metadata": {
        "id": "Yf0wkffGhlGe"
      },
      "execution_count": null,
      "outputs": []
    }
  ]
}
