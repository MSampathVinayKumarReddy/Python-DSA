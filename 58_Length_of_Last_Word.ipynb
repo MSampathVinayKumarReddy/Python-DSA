{
  "nbformat": 4,
  "nbformat_minor": 0,
  "metadata": {
    "colab": {
      "provenance": []
    },
    "kernelspec": {
      "name": "python3",
      "display_name": "Python 3"
    },
    "language_info": {
      "name": "python"
    }
  },
  "cells": [
    {
      "cell_type": "code",
      "source": [
        "#BruteForce - very worst solution\n",
        "class Solution:\n",
        "    def lengthOfLastWord(self, s: str) -> int:\n",
        "        l = s.split(\" \")\n",
        "        for i in range(len(l) - 1, -1, -1):\n",
        "            if len(l[i]) > 0:\n",
        "                return len(l[i])"
      ],
      "metadata": {
        "id": "yN_bgsrfAf4c"
      },
      "execution_count": 31,
      "outputs": []
    },
    {
      "cell_type": "code",
      "source": [
        "Solution().lengthOfLastWord(\"Hello World\")"
      ],
      "metadata": {
        "colab": {
          "base_uri": "https://localhost:8080/"
        },
        "id": "lxUbt9kGAtBe",
        "outputId": "da649eeb-35ac-4e18-b1db-2cbb60851756"
      },
      "execution_count": 32,
      "outputs": [
        {
          "output_type": "execute_result",
          "data": {
            "text/plain": [
              "5"
            ]
          },
          "metadata": {},
          "execution_count": 32
        }
      ]
    },
    {
      "cell_type": "code",
      "source": [
        "Solution().lengthOfLastWord(\"sas  ksdw s  asj   \")"
      ],
      "metadata": {
        "colab": {
          "base_uri": "https://localhost:8080/"
        },
        "id": "eAknCSWSAtED",
        "outputId": "d8c9b0c6-d77b-4f11-fcbe-ecc4daf77142"
      },
      "execution_count": 33,
      "outputs": [
        {
          "output_type": "execute_result",
          "data": {
            "text/plain": [
              "3"
            ]
          },
          "metadata": {},
          "execution_count": 33
        }
      ]
    },
    {
      "cell_type": "code",
      "source": [],
      "metadata": {
        "id": "TvXVv4pbAtHb"
      },
      "execution_count": null,
      "outputs": []
    },
    {
      "cell_type": "code",
      "source": [
        "#Optimized - GPT - Somewhat better\n",
        "\n",
        "class Solution:\n",
        "    def lengthOfLastWord(self, s: str) -> int:\n",
        "        length = 0\n",
        "        i = len(s) - 1\n",
        "\n",
        "        #if it is blank skip\n",
        "        while i >= 0 and s[i] == \" \":\n",
        "            i -= 1\n",
        "        #if not blank then add it to length\n",
        "        while i >= 0 and s[i] != \" \":\n",
        "            length += 1\n",
        "            i -= 1\n",
        "\n",
        "        return length"
      ],
      "metadata": {
        "id": "doE7Qke7Af8P"
      },
      "execution_count": 34,
      "outputs": []
    },
    {
      "cell_type": "code",
      "source": [
        "Solution().lengthOfLastWord(\"Hello World\")"
      ],
      "metadata": {
        "colab": {
          "base_uri": "https://localhost:8080/"
        },
        "id": "gdjU4AQKDxaG",
        "outputId": "541a77a2-75ac-438d-9807-6254a06ca675"
      },
      "execution_count": 35,
      "outputs": [
        {
          "output_type": "execute_result",
          "data": {
            "text/plain": [
              "5"
            ]
          },
          "metadata": {},
          "execution_count": 35
        }
      ]
    },
    {
      "cell_type": "code",
      "source": [
        "Solution().lengthOfLastWord(\"sas  ksdw s  asj knadhgdusvd   v   \")"
      ],
      "metadata": {
        "colab": {
          "base_uri": "https://localhost:8080/"
        },
        "id": "lkG4Fh9xD1cv",
        "outputId": "0887ad28-5faf-414c-c242-714c38b09f65"
      },
      "execution_count": 36,
      "outputs": [
        {
          "output_type": "execute_result",
          "data": {
            "text/plain": [
              "1"
            ]
          },
          "metadata": {},
          "execution_count": 36
        }
      ]
    },
    {
      "cell_type": "code",
      "source": [],
      "metadata": {
        "id": "146v2NCYD5ET"
      },
      "execution_count": null,
      "outputs": []
    }
  ]
}