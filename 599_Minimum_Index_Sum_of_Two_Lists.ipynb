{
  "nbformat": 4,
  "nbformat_minor": 0,
  "metadata": {
    "colab": {
      "provenance": []
    },
    "kernelspec": {
      "name": "python3",
      "display_name": "Python 3"
    },
    "language_info": {
      "name": "python"
    }
  },
  "cells": [
    {
      "cell_type": "code",
      "source": [
        "#BruteForce\n",
        "\n",
        "def findRestaurant_bruteforce(list1, list2):\n",
        "    min_sum = float('inf')  # Initialize min_sum to infinity\n",
        "    result = []  # Initialize result list to store the answer\n",
        "\n",
        "    for i in range(len(list1)):  # Loop through each restaurant in list1\n",
        "        if list1[i] in list2:  # Check if list1[i] exists in list2\n",
        "            j = list2.index(list1[i])  # Get the index of that restaurant in list2\n",
        "            index_sum = i + j  # Calculate the sum of indices\n",
        "            if index_sum < min_sum:  # If it's the smallest index sum found so far\n",
        "                min_sum = index_sum  # Update the min_sum\n",
        "                result = [list1[i]]  # Reset result with the current restaurant\n",
        "            elif index_sum == min_sum:  # If there's a tie with the same index sum\n",
        "                result.append(list1[i])  # Add the restaurant to the result list\n",
        "\n",
        "    return result  # Return the final list of restaurants with the smallest index sum"
      ],
      "metadata": {
        "id": "-tRy_rYVSRzm"
      },
      "execution_count": 1,
      "outputs": []
    },
    {
      "cell_type": "code",
      "source": [
        "findRestaurant_bruteforce(list1 = [\"Shogun\",\"Tapioca Express\",\"Burger King\",\"KFC\"], list2 = [\"KFC\",\"Shogun\",\"Burger King\"])"
      ],
      "metadata": {
        "colab": {
          "base_uri": "https://localhost:8080/"
        },
        "id": "zw8CvBWlTmZh",
        "outputId": "0963279a-8973-4a4e-bebf-2f632448216a"
      },
      "execution_count": 2,
      "outputs": [
        {
          "output_type": "execute_result",
          "data": {
            "text/plain": [
              "['Shogun']"
            ]
          },
          "metadata": {},
          "execution_count": 2
        }
      ]
    },
    {
      "cell_type": "code",
      "source": [
        "findRestaurant_bruteforce(list1 = [\"Shogun\",\"Tapioca Express\",\"Burger King\",\"KFC\"], list2 = [\"Piatti\",\"The Grill at Torrey Pines\",\"Hungry Hunter Steakhouse\",\"Shogun\"])"
      ],
      "metadata": {
        "colab": {
          "base_uri": "https://localhost:8080/"
        },
        "id": "YX0zwTreTmcD",
        "outputId": "0341b3fc-bd8e-43c1-ecb6-4358d71938ec"
      },
      "execution_count": 3,
      "outputs": [
        {
          "output_type": "execute_result",
          "data": {
            "text/plain": [
              "['Shogun']"
            ]
          },
          "metadata": {},
          "execution_count": 3
        }
      ]
    },
    {
      "cell_type": "code",
      "source": [
        "findRestaurant_bruteforce(list1 = [\"happy\",\"sad\",\"good\"], list2 = [\"sad\",\"happy\",\"good\"])"
      ],
      "metadata": {
        "colab": {
          "base_uri": "https://localhost:8080/"
        },
        "id": "eyKDKgvaTmeL",
        "outputId": "edbe60b7-48d9-458d-c0e5-455274e3750d"
      },
      "execution_count": 4,
      "outputs": [
        {
          "output_type": "execute_result",
          "data": {
            "text/plain": [
              "['happy', 'sad']"
            ]
          },
          "metadata": {},
          "execution_count": 4
        }
      ]
    },
    {
      "cell_type": "code",
      "source": [],
      "metadata": {
        "id": "IdxM3JznTmgd"
      },
      "execution_count": null,
      "outputs": []
    },
    {
      "cell_type": "code",
      "source": [
        "#Most Efficient\n",
        "\n",
        "def findRestaurant_efficient(list1, list2):\n",
        "    index_map = {restaurant: i for i, restaurant in enumerate(list1)}\n",
        "    min_sum = float('inf')\n",
        "    result = []\n",
        "\n",
        "    for j, restaurant in enumerate(list2):\n",
        "        if restaurant in index_map:\n",
        "            index_sum = j + index_map[restaurant]\n",
        "            if index_sum < min_sum:\n",
        "                min_sum = index_sum\n",
        "                result = [restaurant]\n",
        "            elif index_sum == min_sum:\n",
        "                result.append(restaurant)\n",
        "\n",
        "    return result\n",
        "\n",
        "#Building the dictionary from list1 takes O(N), where N is the length of list1.\n",
        "#Looping through list2 takes O(M), where M is the length of list2.\n",
        "#Overall time complexity is O(N + M), which is much more efficient than the brute force approach.\n",
        "\n",
        "#but for bruteforce we are doing O(N * M)"
      ],
      "metadata": {
        "id": "fkZqvA3hXWRo"
      },
      "execution_count": 14,
      "outputs": []
    },
    {
      "cell_type": "code",
      "source": [
        "findRestaurant_efficient(list1 = [\"Shogun\",\"Tapioca Express\",\"Burger King\",\"KFC\"], list2 = [\"KFC\",\"Shogun\",\"Burger King\"])"
      ],
      "metadata": {
        "colab": {
          "base_uri": "https://localhost:8080/"
        },
        "id": "P8YF1JycXWUR",
        "outputId": "0c41c177-5497-4a67-efab-abce3507a163"
      },
      "execution_count": 15,
      "outputs": [
        {
          "output_type": "execute_result",
          "data": {
            "text/plain": [
              "['Shogun']"
            ]
          },
          "metadata": {},
          "execution_count": 15
        }
      ]
    },
    {
      "cell_type": "code",
      "source": [
        "findRestaurant_efficient(list1 = [\"Shogun\",\"Tapioca Express\",\"Burger King\",\"KFC\"], list2 = [\"Piatti\",\"The Grill at Torrey Pines\",\"Hungry Hunter Steakhouse\",\"Shogun\"])"
      ],
      "metadata": {
        "colab": {
          "base_uri": "https://localhost:8080/"
        },
        "id": "W41qgaInXWWZ",
        "outputId": "e85cee46-c1d9-400b-d93a-7233765829dc"
      },
      "execution_count": 16,
      "outputs": [
        {
          "output_type": "execute_result",
          "data": {
            "text/plain": [
              "['Shogun']"
            ]
          },
          "metadata": {},
          "execution_count": 16
        }
      ]
    },
    {
      "cell_type": "code",
      "source": [
        "findRestaurant_efficient(list1 = [\"happy\",\"sad\",\"good\"], list2 = [\"sad\",\"happy\",\"good\"])"
      ],
      "metadata": {
        "colab": {
          "base_uri": "https://localhost:8080/"
        },
        "id": "asTwhG1bXWbN",
        "outputId": "456245b8-ba93-4bc4-ac56-b88b3c7fc4d3"
      },
      "execution_count": 17,
      "outputs": [
        {
          "output_type": "execute_result",
          "data": {
            "text/plain": [
              "['sad', 'happy']"
            ]
          },
          "metadata": {},
          "execution_count": 17
        }
      ]
    },
    {
      "cell_type": "code",
      "source": [],
      "metadata": {
        "id": "TyhD1aZjX3Fi"
      },
      "execution_count": null,
      "outputs": []
    }
  ]
}