{
  "nbformat": 4,
  "nbformat_minor": 0,
  "metadata": {
    "colab": {
      "provenance": []
    },
    "kernelspec": {
      "name": "python3",
      "display_name": "Python 3"
    },
    "language_info": {
      "name": "python"
    }
  },
  "cells": [
    {
      "cell_type": "code",
      "source": [],
      "metadata": {
        "id": "QPA-EA0SLi8z"
      },
      "execution_count": null,
      "outputs": []
    },
    {
      "cell_type": "code",
      "source": [
        "#Bruteforce\n",
        "class Solution:\n",
        "    def reverseString(self, s):\n",
        "        \"\"\"\n",
        "        Do not return anything, modify s in-place instead.\n",
        "        \"\"\"\n",
        "        l = 0\n",
        "        r = len(s) - 1\n",
        "\n",
        "        while l < r:\n",
        "            s[l], s[r] = s[r], s[l]\n",
        "            l += 1\n",
        "            r -= 1\n",
        "\n",
        "        return s"
      ],
      "metadata": {
        "id": "MW-uskRLLi-0"
      },
      "execution_count": 1,
      "outputs": []
    },
    {
      "cell_type": "code",
      "source": [
        "Solution().reverseString(s = [\"h\",\"e\",\"l\",\"l\",\"o\"])"
      ],
      "metadata": {
        "colab": {
          "base_uri": "https://localhost:8080/"
        },
        "id": "hyqw7_1INOgh",
        "outputId": "6edb7600-51bc-4bd1-d984-b9b83f318bf0"
      },
      "execution_count": 2,
      "outputs": [
        {
          "output_type": "execute_result",
          "data": {
            "text/plain": [
              "['o', 'l', 'l', 'e', 'h']"
            ]
          },
          "metadata": {},
          "execution_count": 2
        }
      ]
    },
    {
      "cell_type": "code",
      "source": [],
      "metadata": {
        "id": "1LC7piE-NOwA"
      },
      "execution_count": 2,
      "outputs": []
    },
    {
      "cell_type": "code",
      "source": [
        "#Most Optimized\n",
        "class Solution:\n",
        "    def reverseString3(self, s):\n",
        "        \"\"\"\n",
        "        Do not return anything, modify s in-place instead.\n",
        "        \"\"\"\n",
        "        return s.reverse()"
      ],
      "metadata": {
        "id": "msHzaGt9LjBe"
      },
      "execution_count": 11,
      "outputs": []
    },
    {
      "cell_type": "code",
      "source": [
        "Solution().reverseString3(s = [\"H\",\"a\",\"n\",\"n\",\"a\",\"h\"])"
      ],
      "metadata": {
        "id": "G52-BbfSLjDt"
      },
      "execution_count": null,
      "outputs": []
    },
    {
      "cell_type": "code",
      "source": [],
      "metadata": {
        "id": "nde-QNihLjG3"
      },
      "execution_count": 4,
      "outputs": []
    },
    {
      "cell_type": "code",
      "source": [
        "reverse"
      ],
      "metadata": {
        "id": "BxDSEwHnK0rq"
      },
      "execution_count": 4,
      "outputs": []
    }
  ]
}