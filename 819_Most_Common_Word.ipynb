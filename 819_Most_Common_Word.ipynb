{
  "nbformat": 4,
  "nbformat_minor": 0,
  "metadata": {
    "colab": {
      "provenance": []
    },
    "kernelspec": {
      "name": "python3",
      "display_name": "Python 3"
    },
    "language_info": {
      "name": "python"
    }
  },
  "cells": [
    {
      "cell_type": "code",
      "execution_count": 22,
      "metadata": {
        "id": "30-yneCwvZsJ"
      },
      "outputs": [],
      "source": [
        "#Brute Force\n",
        "\n",
        "import re\n",
        "\n",
        "def mostCommonWord(paragraph, banned):\n",
        "    cleaned_text = re.findall(r'\\b\\w+\\b', paragraph.lower())\n",
        "    dict_ = {}\n",
        "    for i in cleaned_text:\n",
        "        if i in dict_.keys():\n",
        "            dict_[i] += 1\n",
        "        else:\n",
        "            dict_[i] = 1\n",
        "\n",
        "    sol = ''\n",
        "    maxx = 0\n",
        "    for k, v in dict_.items():\n",
        "        if k not in banned and v > maxx:\n",
        "            maxx = v\n",
        "            sol = k\n",
        "\n",
        "    return sol"
      ]
    },
    {
      "cell_type": "code",
      "source": [
        "mostCommonWord(\"Bob hit a ball, the hit BALL flew far after it was hit.\", [\"hit\"])"
      ],
      "metadata": {
        "colab": {
          "base_uri": "https://localhost:8080/",
          "height": 36
        },
        "id": "3huhQgdivilz",
        "outputId": "da457e95-3c53-4ea9-c38f-6aa0a761e744"
      },
      "execution_count": 23,
      "outputs": [
        {
          "output_type": "execute_result",
          "data": {
            "text/plain": [
              "'ball'"
            ],
            "application/vnd.google.colaboratory.intrinsic+json": {
              "type": "string"
            }
          },
          "metadata": {},
          "execution_count": 23
        }
      ]
    },
    {
      "cell_type": "code",
      "source": [
        "mostCommonWord(\"a.\", [])"
      ],
      "metadata": {
        "colab": {
          "base_uri": "https://localhost:8080/",
          "height": 36
        },
        "id": "CfBJKJBYvizy",
        "outputId": "77b75641-1f27-4294-872c-d0e64b3280a6"
      },
      "execution_count": 24,
      "outputs": [
        {
          "output_type": "execute_result",
          "data": {
            "text/plain": [
              "'a'"
            ],
            "application/vnd.google.colaboratory.intrinsic+json": {
              "type": "string"
            }
          },
          "metadata": {},
          "execution_count": 24
        }
      ]
    },
    {
      "cell_type": "code",
      "source": [
        "mostCommonWord(\"a, a, a, a, b,b,b,c, c\", [\"a\"])"
      ],
      "metadata": {
        "colab": {
          "base_uri": "https://localhost:8080/",
          "height": 36
        },
        "id": "ax3ceiqdvi4S",
        "outputId": "8d8efe38-bba2-4adb-e27b-39e24604ac0a"
      },
      "execution_count": 25,
      "outputs": [
        {
          "output_type": "execute_result",
          "data": {
            "text/plain": [
              "'b'"
            ],
            "application/vnd.google.colaboratory.intrinsic+json": {
              "type": "string"
            }
          },
          "metadata": {},
          "execution_count": 25
        }
      ]
    },
    {
      "cell_type": "code",
      "source": [],
      "metadata": {
        "id": "yv5c5HXRvi7z"
      },
      "execution_count": 25,
      "outputs": []
    },
    {
      "cell_type": "code",
      "source": [
        "#Brute Force - with collections.Counter\n",
        "\n",
        "import re\n",
        "from collections import Counter\n",
        "class Solution:\n",
        "    def mostCommonWord_2(self, paragraph, banned):\n",
        "        string = re.sub(r'[^\\w\\s]', ' ', paragraph).lower()\n",
        "        words = string.split()\n",
        "\n",
        "        dict_ = Counter(words)\n",
        "\n",
        "        most_rep = ''\n",
        "        max_val = 0\n",
        "        for key, val in dict_.items():\n",
        "            if key not in banned and val > max_val:\n",
        "                most_rep = key\n",
        "                max_val = val\n",
        "\n",
        "        return most_rep"
      ],
      "metadata": {
        "id": "ScTW9sBVw2nl"
      },
      "execution_count": 26,
      "outputs": []
    },
    {
      "cell_type": "code",
      "source": [
        "Solution().mostCommonWord_2(\"a, a, a, a, b,b,b,c, c\", [\"a\"])"
      ],
      "metadata": {
        "colab": {
          "base_uri": "https://localhost:8080/",
          "height": 36
        },
        "id": "4Gieo0DLw2tc",
        "outputId": "b42ff563-201c-427f-c606-aff81434939c"
      },
      "execution_count": 27,
      "outputs": [
        {
          "output_type": "execute_result",
          "data": {
            "text/plain": [
              "'b'"
            ],
            "application/vnd.google.colaboratory.intrinsic+json": {
              "type": "string"
            }
          },
          "metadata": {},
          "execution_count": 27
        }
      ]
    },
    {
      "cell_type": "code",
      "source": [
        "Solution().mostCommonWord_2(\"Bob hit a ball, the hit BALL flew far after it was hit.\", [\"hit\"])"
      ],
      "metadata": {
        "colab": {
          "base_uri": "https://localhost:8080/",
          "height": 36
        },
        "id": "SRbouZJfw2x8",
        "outputId": "ae960c32-d046-4e04-9d5e-bf3c8e4fbca9"
      },
      "execution_count": 28,
      "outputs": [
        {
          "output_type": "execute_result",
          "data": {
            "text/plain": [
              "'ball'"
            ],
            "application/vnd.google.colaboratory.intrinsic+json": {
              "type": "string"
            }
          },
          "metadata": {},
          "execution_count": 28
        }
      ]
    },
    {
      "cell_type": "code",
      "source": [],
      "metadata": {
        "id": "y_fO67jiw22M"
      },
      "execution_count": 28,
      "outputs": []
    },
    {
      "cell_type": "code",
      "source": [
        "#Most Effcicient and Optimized Solution- According to ChatGPT\n",
        "import re\n",
        "from collections import Counter\n",
        "def mostCommonFinal(para, ban):\n",
        "  normalized_para = re.sub(r'[^\\w\\s]', ' ', para).lower().split()\\\n",
        "\n",
        "  banned = set(ban)\n",
        "\n",
        "  word_count = Counter(word for word in normalized_para if word not in banned)\n",
        "\n",
        "  solution = word_count.most_common(1)[0][0]\n",
        "\n",
        "  print(solution)"
      ],
      "metadata": {
        "id": "Tu1WMYAvw259"
      },
      "execution_count": 53,
      "outputs": []
    },
    {
      "cell_type": "code",
      "source": [
        "mostCommonFinal(\"a, a, a, a, b,b,b,c, c\", [\"a\"])"
      ],
      "metadata": {
        "colab": {
          "base_uri": "https://localhost:8080/"
        },
        "id": "Tqxk3k7vw29s",
        "outputId": "c75d7501-93fd-4d2e-bce1-8714586e60da"
      },
      "execution_count": 54,
      "outputs": [
        {
          "output_type": "stream",
          "name": "stdout",
          "text": [
            "b\n"
          ]
        }
      ]
    },
    {
      "cell_type": "code",
      "source": [
        "mostCommonFinal(\"Bob hit a ball, the hit BALL flew far after it was hit.\", [\"hit\"])"
      ],
      "metadata": {
        "colab": {
          "base_uri": "https://localhost:8080/"
        },
        "id": "IV0gzSqi3uXB",
        "outputId": "3c4120fc-deb2-44b5-93a5-df405773173d"
      },
      "execution_count": 55,
      "outputs": [
        {
          "output_type": "stream",
          "name": "stdout",
          "text": [
            "ball\n"
          ]
        }
      ]
    },
    {
      "cell_type": "code",
      "source": [],
      "metadata": {
        "id": "gbBgXwtw30FA"
      },
      "execution_count": null,
      "outputs": []
    }
  ]
}