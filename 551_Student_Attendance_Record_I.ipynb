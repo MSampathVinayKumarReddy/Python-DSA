{
  "nbformat": 4,
  "nbformat_minor": 0,
  "metadata": {
    "colab": {
      "provenance": []
    },
    "kernelspec": {
      "name": "python3",
      "display_name": "Python 3"
    },
    "language_info": {
      "name": "python"
    }
  },
  "cells": [
    {
      "cell_type": "code",
      "source": [
        "#BruteForce\n",
        "def checkRecord(s):\n",
        "    a_count = 0\n",
        "    for i in range(len(s)):\n",
        "        if s[i] == 'A':\n",
        "            a_count += 1\n",
        "\n",
        "            if a_count > 1:\n",
        "                return False\n",
        "\n",
        "        if i >= 2 and s[i] == 'L' and s[i-1] == 'L' and s[i-2] == 'L':\n",
        "            return False\n",
        "\n",
        "    return True"
      ],
      "metadata": {
        "id": "jiyDwco6_zPB"
      },
      "execution_count": 12,
      "outputs": []
    },
    {
      "cell_type": "code",
      "source": [
        "checkRecord(\"PPALLP\")"
      ],
      "metadata": {
        "colab": {
          "base_uri": "https://localhost:8080/"
        },
        "id": "7ALj1UU9A674",
        "outputId": "d0674224-a57f-4791-f5d9-bdba36af0666"
      },
      "execution_count": 13,
      "outputs": [
        {
          "output_type": "execute_result",
          "data": {
            "text/plain": [
              "True"
            ]
          },
          "metadata": {},
          "execution_count": 13
        }
      ]
    },
    {
      "cell_type": "code",
      "source": [
        "checkRecord(\"PPALLL\")"
      ],
      "metadata": {
        "colab": {
          "base_uri": "https://localhost:8080/"
        },
        "id": "RWL0MPiQA-C4",
        "outputId": "5edab2e4-9625-49c1-87e7-6e677ad65d46"
      },
      "execution_count": 14,
      "outputs": [
        {
          "output_type": "execute_result",
          "data": {
            "text/plain": [
              "False"
            ]
          },
          "metadata": {},
          "execution_count": 14
        }
      ]
    },
    {
      "cell_type": "code",
      "source": [
        "#SimpleSoltuion\n",
        "\n",
        "def checkRecord(self, s: str) -> bool:\n",
        "        return (s.count('A') < 2) and ('LLL' not in s)"
      ],
      "metadata": {
        "id": "37F5zlwJBCbA"
      },
      "execution_count": 15,
      "outputs": []
    },
    {
      "cell_type": "code",
      "source": [],
      "metadata": {
        "id": "rj8TFE8JBcQR"
      },
      "execution_count": null,
      "outputs": []
    },
    {
      "cell_type": "code",
      "source": [],
      "metadata": {
        "id": "Dly8YY5_BotU"
      },
      "execution_count": null,
      "outputs": []
    },
    {
      "cell_type": "code",
      "source": [],
      "metadata": {
        "id": "FnNPB55ZBowA"
      },
      "execution_count": null,
      "outputs": []
    }
  ]
}